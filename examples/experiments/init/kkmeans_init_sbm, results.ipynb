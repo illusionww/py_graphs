{
 "cells": [
  {
   "cell_type": "code",
   "execution_count": 1,
   "metadata": {},
   "outputs": [],
   "source": [
    "import os\n",
    "import sys\n",
    "import pickle\n",
    "from collections import defaultdict\n",
    "from tqdm import tqdm_notebook as tqdm\n",
    "import numpy as np\n",
    "\n",
    "sys.path.append('/home/illusionww/Documents/GitHub/pygraphs')\n",
    "from pygraphs.measure import kernels"
   ]
  },
  {
   "cell_type": "markdown",
   "metadata": {},
   "source": [
    "# kkmeans init experiments, results"
   ]
  },
  {
   "cell_type": "code",
   "execution_count": 2,
   "metadata": {},
   "outputs": [],
   "source": [
    "CACHE_ROOT = './kkmeans_init_experiments2/by_column_and_kernel'\n",
    "columns = [\n",
    "    (100, 2, 0.2, 0.05),\n",
    "    (100, 2, 0.3, 0.05),\n",
    "    (100, 2, 0.3, 0.1),\n",
    "    (100, 2, 0.3, 0.15),\n",
    "    (102, 3, 0.3, 0.1),\n",
    "    (100, 4, 0.3, 0.1),\n",
    "    (100, 4, 0.3, 0.15),\n",
    "    (200, 2, 0.3, 0.05),\n",
    "    (200, 2, 0.3, 0.1),\n",
    "    (200, 2, 0.3, 0.15),\n",
    "    (201, 3, 0.3, 0.1),\n",
    "    (200, 4, 0.3, 0.1),\n",
    "    (200, 4, 0.3, 0.15)\n",
    "]"
   ]
  },
  {
   "cell_type": "code",
   "execution_count": 3,
   "metadata": {},
   "outputs": [],
   "source": [
    "n, k, p_in, p_out = columns[0]\n",
    "column_str = f'{n}_{k}_{p_in:.1f}_{p_out:.2f}'\n",
    "kernel = kernels[1]\n",
    "with open(f'{CACHE_ROOT}/{column_str}_{kernel.name}_results.pkl', 'rb') as f:\n",
    "    data = pickle.load(f)"
   ]
  },
  {
   "cell_type": "code",
   "execution_count": 4,
   "metadata": {},
   "outputs": [
    {
     "data": {
      "text/plain": [
       "{'labels': array([0, 0, 0, 0, 0, 0, 0, 0, 0, 0, 0, 0, 0, 0, 0, 0, 0, 0, 0, 0, 0, 0,\n",
       "        0, 0, 0, 0, 0, 0, 0, 0, 0, 0, 0, 0, 0, 0, 0, 0, 0, 0, 0, 0, 0, 0,\n",
       "        0, 0, 0, 0, 0, 0, 0, 0, 0, 0, 0, 0, 0, 0, 0, 0, 0, 0, 0, 0, 0, 0,\n",
       "        0, 0, 0, 0, 0, 0, 0, 0, 0, 0, 0, 0, 0, 0, 0, 0, 0, 0, 0, 0, 0, 0,\n",
       "        0, 0, 0, 0, 0, 0, 0, 0, 0, 0, 0, 0]),\n",
       " 'inertia': array(nan, dtype=float32),\n",
       " 'init': 'one',\n",
       " 'score_ari': 0.0,\n",
       " 'score_nmi': -2.0}"
      ]
     },
     "execution_count": 4,
     "metadata": {},
     "output_type": "execute_result"
    }
   ],
   "source": [
    "data[0][0.0][5]"
   ]
  },
  {
   "cell_type": "markdown",
   "metadata": {},
   "source": [
    "## Experiment 1: инициализация, обгоняющая на большинстве параметров\n",
    "\n",
    "Для каждого графа определяем наилучшую инициализацию **для каждого параметра** (по inertia, ARI и NMI). После этого считаем статистику внутри каждого графа, сколько побед у каждого типа инициализаций (one, all, k-kmeans++), выбираем победителя для графа. После этого считаем статистику для всех графов, выбираем победителя. Делаем это для каждой меры и каждого сетапа генерации графов"
   ]
  },
  {
   "cell_type": "code",
   "execution_count": 5,
   "metadata": {},
   "outputs": [],
   "source": [
    "def choose_init(param_results, choose_by_measure='score_ari', request_measure='score_ari'):\n",
    "    results = {\n",
    "        'one': np.nan,\n",
    "        'all': np.nan,\n",
    "        'k-means++': np.nan,\n",
    "        'any': np.nan\n",
    "    }\n",
    "    for init_name in results.keys():\n",
    "        best_chooseby = np.inf if choose_by_measure == 'inertia' else -np.inf\n",
    "        best_request = np.nan\n",
    "        filtered_by_init = [x for x in param_results if x['init'] == init_name] \\\n",
    "                           if init_name != 'any' else param_results\n",
    "        for init_results in filtered_by_init:\n",
    "            chooseby, request = init_results[choose_by_measure], init_results[request_measure]\n",
    "            if (choose_by_measure == 'inertia' and best_chooseby > chooseby) or \\\n",
    "               (choose_by_measure != 'inertia' and best_chooseby < chooseby):\n",
    "                best_chooseby, best_request = chooseby, request\n",
    "        results[init_name] = best_request\n",
    "    return results\n",
    "\n",
    "def exp1(column, kernel):\n",
    "    choose_by_measure, request_measure = 'inertia', 'score_ari'\n",
    "    \n",
    "    n, k, p_in, p_out = column\n",
    "    column_str = f'{n}_{k}_{p_in:.1f}_{p_out:.2f}'\n",
    "    with open(f'{CACHE_ROOT}/{column_str}_{kernel.name}_results.pkl', 'rb') as f:\n",
    "        data = pickle.load(f)\n",
    "        \n",
    "    all_graphs_stat = defaultdict(lambda: 0)\n",
    "    for graph_results in data:\n",
    "        graph_stat = defaultdict(lambda: 0)\n",
    "        for flat_param, param_results in graph_results.items():\n",
    "            results = choose_init(param_results, choose_by_measure, request_measure)\n",
    "            max_val = np.nanmin(list(results.values())) \\\n",
    "                      if request_measure == 'inertia' else np.nanmax(list(results.values()))\n",
    "            graph_stat['one'] += int(results['one'] == max_val)\n",
    "            graph_stat['all'] += int(results['all'] == max_val)\n",
    "            graph_stat['k-means++'] += int(results['k-means++'] == max_val)\n",
    "            graph_stat['any'] += int(results['any'] == max_val)\n",
    "        max_val = max(graph_stat.values())\n",
    "        all_graphs_stat['one'] += int(graph_stat['one'] == max_val)\n",
    "        all_graphs_stat['all'] += int(graph_stat['all'] == max_val)\n",
    "        all_graphs_stat['k-means++'] += int(graph_stat['k-means++'] == max_val)\n",
    "        all_graphs_stat['any'] += int(graph_stat['any'] == max_val)\n",
    "    return all_graphs_stat"
   ]
  },
  {
   "cell_type": "code",
   "execution_count": 71,
   "metadata": {},
   "outputs": [],
   "source": [
    "cached = {}\n",
    "\n",
    "def request_cache(column, kernel, func=exp1):\n",
    "    n, k, p_in, p_out = column\n",
    "    column_str = f'{n}_{k}_{p_in:.1f}_{p_out:.2f}'\n",
    "    key = f'{column_str}_{kernel.name}'\n",
    "    \n",
    "    if key not in cached:\n",
    "        value = func(column, kernel)\n",
    "        cached[key] = value\n",
    "\n",
    "    return cached[key]"
   ]
  },
  {
   "cell_type": "code",
   "execution_count": 72,
   "metadata": {
    "scrolled": true
   },
   "outputs": [
    {
     "data": {
      "application/vnd.jupyter.widget-view+json": {
       "model_id": "dac733fa810b4bdcbfc3fc70a70ec4c7",
       "version_major": 2,
       "version_minor": 0
      },
      "text/plain": [
       "HBox(children=(IntProgress(value=0, max=21), HTML(value='')))"
      ]
     },
     "metadata": {},
     "output_type": "display_data"
    },
    {
     "name": "stderr",
     "output_type": "stream",
     "text": [
      "/usr/local/lib/python3.6/dist-packages/ipykernel_launcher.py:35: RuntimeWarning: All-NaN axis encountered\n"
     ]
    },
    {
     "name": "stdout",
     "output_type": "stream",
     "text": [
      "\n"
     ]
    }
   ],
   "source": [
    "with open('inertia.csv', 'w') as f:\n",
    "    f.write('Inertia\\t')\n",
    "    for column in columns:\n",
    "        n, k, p_in, p_out = column\n",
    "        column_str = f'{n}_{k}_{p_in:.1f}_{p_out:.2f}'\n",
    "        f.write(f'{column_str}\\t\\t\\t\\t')\n",
    "    f.write('\\n\\t')\n",
    "    for column in columns:\n",
    "        f.write('one\\tall\\tk-means++\\tany\\t')\n",
    "    f.write('\\n')\n",
    "\n",
    "    for kernel in tqdm(kernels):\n",
    "        f.write(f'{kernel.name}\\t')\n",
    "        for column in columns:\n",
    "            inertia = request_cache(column, kernel)\n",
    "            f.write(f\"{inertia['one']}\\t{inertia['all']}\\t{inertia['k-means++']}\\t{inertia['any']}\\t\")\n",
    "        f.write('\\n')\n",
    "        f.flush()"
   ]
  },
  {
   "cell_type": "markdown",
   "metadata": {},
   "source": [
    "## Experiment 2: инициализация дающая наилучший результат\n",
    "\n",
    "Для каждого графа определяем наилучшую инициализацию **для каждого параметра** (по inertia, ARI и NMI). После этого считаем статистику внутри каждого графа, сколько побед у каждого типа инициализаций (one, all, k-kmeans++), выбираем победителя для графа. После этого считаем статистику для всех графов, выбираем победителя. Делаем это для каждой меры и каждого сетапа генерации графов"
   ]
  },
  {
   "cell_type": "code",
   "execution_count": 14,
   "metadata": {},
   "outputs": [],
   "source": [
    "def choose_param(graph_results, init_name='one', choose_by_measure='inertia', request_measure='score_ari'):\n",
    "    results = []\n",
    "    for flat_param, param_results in graph_results.items():\n",
    "        param_results = [x for x in param_results if x['init'] == init_name] \\\n",
    "                           if init_name != 'any' else param_results\n",
    "        resultss = choose_init(param_results, choose_by_measure, request_measure)\n",
    "        results.append(resultss[init_name])\n",
    "    return np.nanmax(results) \n",
    "        \n",
    "def exp2(column, kernel):\n",
    "    choose_by_measure, request_measure = 'inertia', 'score_ari'\n",
    "    \n",
    "    n, k, p_in, p_out = column\n",
    "    column_str = f'{n}_{k}_{p_in:.1f}_{p_out:.2f}'\n",
    "    with open(f'{CACHE_ROOT}/{column_str}_{kernel.name}_results.pkl', 'rb') as f:\n",
    "        data = pickle.load(f)\n",
    "        \n",
    "    all_graphs_stat = defaultdict(lambda: 0)\n",
    "    all_graphs_avg = defaultdict(lambda: [])\n",
    "    for graph_results in data:\n",
    "        graph_stat = defaultdict(lambda: 0)\n",
    "        for init_name in ['one', 'all', 'k-means++', 'any']:\n",
    "            graph_stat[init_name] = choose_param(graph_results, init_name=init_name,\n",
    "                                                 choose_by_measure=choose_by_measure,\n",
    "                                                 request_measure=request_measure)\n",
    "        \n",
    "        all_graphs_avg['one'].append(graph_stat['one'])\n",
    "        all_graphs_avg['all'].append(graph_stat['all'])\n",
    "        all_graphs_avg['k-means++'].append(graph_stat['k-means++'])\n",
    "        all_graphs_avg['any'].append(graph_stat['any'])\n",
    "        \n",
    "        max_val = max(graph_stat.values())\n",
    "        all_graphs_stat['one'] += int(graph_stat['one'] == max_val)\n",
    "        all_graphs_stat['all'] += int(graph_stat['all'] == max_val)\n",
    "        all_graphs_stat['k-means++'] += int(graph_stat['k-means++'] == max_val)\n",
    "        all_graphs_stat['any'] += int(graph_stat['any'] == max_val)\n",
    "    \n",
    "    all_graphs_avg['one'] = np.nanmean(all_graphs_avg['one'])\n",
    "    all_graphs_avg['all'] = np.nanmean(all_graphs_avg['all'])\n",
    "    all_graphs_avg['k-means++'] = np.nanmean(all_graphs_avg['k-means++'])\n",
    "    all_graphs_avg['any'] = np.nanmean(all_graphs_avg['any'])\n",
    "    \n",
    "    return all_graphs_stat, all_graphs_avg"
   ]
  },
  {
   "cell_type": "code",
   "execution_count": 15,
   "metadata": {},
   "outputs": [],
   "source": [
    "cached = {}\n",
    "\n",
    "def request_cache(column, kernel, func=exp2):\n",
    "    n, k, p_in, p_out = column\n",
    "    column_str = f'{n}_{k}_{p_in:.1f}_{p_out:.2f}'\n",
    "    key = f'{column_str}_{kernel.name}'\n",
    "    \n",
    "    if key not in cached:\n",
    "        value = func(column, kernel)\n",
    "        cached[key] = value\n",
    "\n",
    "    return cached[key]"
   ]
  },
  {
   "cell_type": "code",
   "execution_count": 16,
   "metadata": {},
   "outputs": [
    {
     "data": {
      "application/vnd.jupyter.widget-view+json": {
       "model_id": "f2be24a6dc7447bbb5b6eab5c41e661a",
       "version_major": 2,
       "version_minor": 0
      },
      "text/plain": [
       "HBox(children=(IntProgress(value=0, max=21), HTML(value='')))"
      ]
     },
     "metadata": {},
     "output_type": "display_data"
    },
    {
     "name": "stdout",
     "output_type": "stream",
     "text": [
      "\n"
     ]
    },
    {
     "data": {
      "application/vnd.jupyter.widget-view+json": {
       "model_id": "c0b2b4101a13459eb54be10345fc61d2",
       "version_major": 2,
       "version_minor": 0
      },
      "text/plain": [
       "HBox(children=(IntProgress(value=0, max=21), HTML(value='')))"
      ]
     },
     "metadata": {},
     "output_type": "display_data"
    },
    {
     "name": "stdout",
     "output_type": "stream",
     "text": [
      "\n"
     ]
    }
   ],
   "source": [
    "with open('exp2_vote.csv', 'w') as f:\n",
    "    f.write('Inertia\\t')\n",
    "    for column in columns:\n",
    "        n, k, p_in, p_out = column\n",
    "        column_str = f'{n}_{k}_{p_in:.1f}_{p_out:.2f}'\n",
    "        f.write(f'{column_str}\\t\\t\\t\\t')\n",
    "    f.write('\\n\\t')\n",
    "    for column in columns:\n",
    "        f.write('one\\tall\\tk-means++\\tany\\t')\n",
    "    f.write('\\n')\n",
    "\n",
    "    for kernel in tqdm(kernels):\n",
    "        f.write(f'{kernel.name}\\t')\n",
    "        for column in columns:\n",
    "            vote, ari = request_cache(column, kernel)\n",
    "            f.write(f\"{vote['one']}\\t{vote['all']}\\t{vote['k-means++']}\\t{vote['any']}\\t\")\n",
    "        f.write('\\n')\n",
    "        f.flush()\n",
    "                    \n",
    "with open('exp2_ari.csv', 'w') as f:\n",
    "    f.write('Inertia\\t')\n",
    "    for column in columns:\n",
    "        n, k, p_in, p_out = column\n",
    "        column_str = f'{n}_{k}_{p_in:.1f}_{p_out:.2f}'\n",
    "        f.write(f'{column_str}\\t\\t\\t\\t')\n",
    "    f.write('\\n\\t')\n",
    "    for column in columns:\n",
    "        f.write('one\\tall\\tk-means++\\tany\\t')\n",
    "    f.write('\\n')\n",
    "\n",
    "    for kernel in tqdm(kernels):\n",
    "        f.write(f'{kernel.name}\\t')\n",
    "        for column in columns:\n",
    "            vote, ari = request_cache(column, kernel)\n",
    "            f.write(f\"{ari['one']}\\t{ari['all']}\\t{ari['k-means++']}\\t{ari['any']}\\t\")\n",
    "        f.write('\\n')\n",
    "        f.flush()"
   ]
  },
  {
   "cell_type": "code",
   "execution_count": null,
   "metadata": {},
   "outputs": [],
   "source": []
  }
 ],
 "metadata": {
  "kernelspec": {
   "display_name": "Python 3",
   "language": "python",
   "name": "python3"
  },
  "language_info": {
   "codemirror_mode": {
    "name": "ipython",
    "version": 3
   },
   "file_extension": ".py",
   "mimetype": "text/x-python",
   "name": "python",
   "nbconvert_exporter": "python",
   "pygments_lexer": "ipython3",
   "version": "3.6.9"
  }
 },
 "nbformat": 4,
 "nbformat_minor": 2
}
