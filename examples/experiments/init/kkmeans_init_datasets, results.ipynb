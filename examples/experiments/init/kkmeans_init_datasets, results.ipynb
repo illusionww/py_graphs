{
 "cells": [
  {
   "cell_type": "code",
   "execution_count": 1,
   "metadata": {},
   "outputs": [],
   "source": [
    "import os\n",
    "import sys\n",
    "import pickle\n",
    "from collections import defaultdict\n",
    "from tqdm import tqdm_notebook as tqdm\n",
    "import numpy as np\n",
    "\n",
    "sys.path.append('/home/illusionww/Documents/GitHub/pygraphs')\n",
    "from pygraphs.measure import kernels"
   ]
  },
  {
   "cell_type": "markdown",
   "metadata": {},
   "source": [
    "# kkmeans init experiments, results"
   ]
  },
  {
   "cell_type": "code",
   "execution_count": 2,
   "metadata": {},
   "outputs": [],
   "source": [
    "CACHE_ROOT = './kkmeans_init_datasets_modularity/by_column_and_kernel'\n",
    "dataset_names = [\n",
    "    'dolphins',\n",
    "    'football',\n",
    "    'karate',\n",
    "    'polbooks',\n",
    "    'news_2cl_1',\n",
    "    'news_2cl_2',\n",
    "    'news_2cl_3',\n",
    "    'news_3cl_1',\n",
    "    'news_3cl_2',\n",
    "    'news_3cl_3',\n",
    "    'news_5cl_1',\n",
    "    'news_5cl_2',\n",
    "    'news_5cl_3',\n",
    "]"
   ]
  },
  {
   "cell_type": "code",
   "execution_count": 3,
   "metadata": {},
   "outputs": [],
   "source": [
    "dataset = dataset_names[0]\n",
    "kernel = kernels[0]\n",
    "with open(f'{CACHE_ROOT}/{dataset}_{kernel.name}_results.pkl', 'rb') as f:\n",
    "    data = pickle.load(f)"
   ]
  },
  {
   "cell_type": "code",
   "execution_count": 4,
   "metadata": {},
   "outputs": [
    {
     "data": {
      "text/plain": [
       "{'labels': array([0, 0, 0, 1, 1, 1, 1, 1, 0, 1, 0, 1, 1, 1, 1, 1, 1, 1, 1, 0, 0, 1,\n",
       "        1, 1, 1, 1, 1, 1, 0, 1, 0, 1, 1, 1, 1, 1, 1, 1, 1, 1, 1, 1, 0, 1,\n",
       "        1, 1, 1, 0, 1, 1, 1, 1, 1, 1, 1, 1, 1, 1, 1, 1, 1, 1]),\n",
       " 'inertia': -0.1579842569518608,\n",
       " 'init': 'one',\n",
       " 'score_ari': -0.04697883948486392,\n",
       " 'score_nmi': 0.01958606105761375}"
      ]
     },
     "execution_count": 4,
     "metadata": {},
     "output_type": "execute_result"
    }
   ],
   "source": [
    "data[0][0.5][0]"
   ]
  },
  {
   "cell_type": "markdown",
   "metadata": {},
   "source": [
    "## Experiment 2: инициализация дающая наилучший результат\n",
    "\n",
    "Для каждого графа определяем наилучшую инициализацию **для каждого параметра** (по inertia, ARI и NMI). После этого считаем статистику внутри каждого графа, сколько побед у каждого типа инициализаций (one, all, k-kmeans++), выбираем победителя для графа. После этого считаем статистику для всех графов, выбираем победителя. Делаем это для каждой меры и каждого сетапа генерации графов"
   ]
  },
  {
   "cell_type": "code",
   "execution_count": 5,
   "metadata": {},
   "outputs": [],
   "source": [
    "def choose_init(param_results, choose_by_measure='inertia', request_measure='score_ari'):\n",
    "    results = {\n",
    "        'one': np.nan,\n",
    "        'all': np.nan,\n",
    "        'k-means++': np.nan,\n",
    "        'any': np.nan\n",
    "    }\n",
    "    for init_name in results.keys():\n",
    "        best_chooseby = np.inf if choose_by_measure == 'inertia' else -np.inf\n",
    "        best_request = np.nan\n",
    "        filtered_by_init = [x for x in param_results if x['init'] == init_name] \\\n",
    "                           if init_name != 'any' else param_results\n",
    "        for init_results in filtered_by_init:\n",
    "            chooseby, request = init_results[choose_by_measure], init_results[request_measure]\n",
    "            if request > 1:\n",
    "                continue\n",
    "            if (choose_by_measure == 'inertia' and best_chooseby > chooseby) or \\\n",
    "               (choose_by_measure != 'inertia' and best_chooseby < chooseby):\n",
    "                best_chooseby, best_request = chooseby, request\n",
    "        results[init_name] = best_request\n",
    "    return results"
   ]
  },
  {
   "cell_type": "code",
   "execution_count": 12,
   "metadata": {},
   "outputs": [],
   "source": [
    "def choose_param(graph_results, init_name='one', choose_by_measure='inertia', request_measure='score_nmi'):\n",
    "    results = []\n",
    "    for flat_param, param_results in graph_results.items():\n",
    "        param_results = [x for x in param_results if x['init'] == init_name] \\\n",
    "                           if init_name != 'any' else param_results\n",
    "        resultss = choose_init(param_results, choose_by_measure, request_measure)\n",
    "        results.append(resultss[init_name])\n",
    "    return np.nanmax(results) \n",
    "        \n",
    "def exp3(dataset_name, kernel):\n",
    "    choose_by_measure, request_measure = 'inertia', 'score_nmi'\n",
    "    \n",
    "    with open(f'{CACHE_ROOT}/{dataset_name}_{kernel.name}_results.pkl', 'rb') as f:\n",
    "        data = pickle.load(f)\n",
    "        \n",
    "    all_graphs_stat = defaultdict(lambda: 0)\n",
    "    all_graphs_avg = defaultdict(lambda: [])\n",
    "    for graph_results in data:\n",
    "        graph_stat = defaultdict(lambda: 0)\n",
    "        for init_name in ['one', 'all', 'k-means++', 'any']:\n",
    "            graph_stat[init_name] = choose_param(graph_results, init_name=init_name,\n",
    "                                                 choose_by_measure=choose_by_measure,\n",
    "                                                 request_measure=request_measure)\n",
    "\n",
    "        all_graphs_avg['one'].append(graph_stat['one'])\n",
    "        all_graphs_avg['all'].append(graph_stat['all'])\n",
    "        all_graphs_avg['k-means++'].append(graph_stat['k-means++'])\n",
    "        all_graphs_avg['any'].append(graph_stat['any'])\n",
    "\n",
    "        max_val = max(graph_stat.values())\n",
    "        all_graphs_stat['one'] += int(graph_stat['one'] == max_val)\n",
    "        all_graphs_stat['all'] += int(graph_stat['all'] == max_val)\n",
    "        all_graphs_stat['k-means++'] += int(graph_stat['k-means++'] == max_val)\n",
    "        all_graphs_stat['any'] += int(graph_stat['any'] == max_val)\n",
    "        \n",
    "    all_graphs_avg['one'] = np.nanmean(all_graphs_avg['one'])\n",
    "    all_graphs_avg['all'] = np.nanmean(all_graphs_avg['all'])\n",
    "    all_graphs_avg['k-means++'] = np.nanmean(all_graphs_avg['k-means++'])\n",
    "    all_graphs_avg['any'] = np.nanmean(all_graphs_avg['any'])\n",
    "\n",
    "    return all_graphs_stat, all_graphs_avg"
   ]
  },
  {
   "cell_type": "code",
   "execution_count": 13,
   "metadata": {},
   "outputs": [],
   "source": [
    "cached = {}\n",
    "\n",
    "def request_cache(dataset_name, kernel, func=exp3):\n",
    "    key = f'{dataset_name}_{kernel.name}'\n",
    "    \n",
    "    if key not in cached:\n",
    "        value = func(dataset_name, kernel)\n",
    "        cached[key] = value\n",
    "\n",
    "    return cached[key]"
   ]
  },
  {
   "cell_type": "code",
   "execution_count": 14,
   "metadata": {},
   "outputs": [
    {
     "data": {
      "application/vnd.jupyter.widget-view+json": {
       "model_id": "83a6df4b09eb4135803519d7d1d628d4",
       "version_major": 2,
       "version_minor": 0
      },
      "text/plain": [
       "HBox(children=(IntProgress(value=0, max=21), HTML(value='')))"
      ]
     },
     "metadata": {},
     "output_type": "display_data"
    },
    {
     "name": "stdout",
     "output_type": "stream",
     "text": [
      "\n"
     ]
    },
    {
     "data": {
      "application/vnd.jupyter.widget-view+json": {
       "model_id": "102392670e3a413dbb015d2e6c216305",
       "version_major": 2,
       "version_minor": 0
      },
      "text/plain": [
       "HBox(children=(IntProgress(value=0, max=21), HTML(value='')))"
      ]
     },
     "metadata": {},
     "output_type": "display_data"
    },
    {
     "name": "stdout",
     "output_type": "stream",
     "text": [
      "\n"
     ]
    }
   ],
   "source": [
    "with open('exp3_vote.csv', 'w') as f:\n",
    "    f.write('Inertia\\t')\n",
    "    for dataset_name in dataset_names:\n",
    "        f.write(f'{dataset_name}\\t\\t\\t\\t')\n",
    "    f.write('\\n\\t')\n",
    "    for dataset_name in dataset_names:\n",
    "        f.write('one\\tall\\tk-means++\\tany\\t')\n",
    "    f.write('\\n')\n",
    "\n",
    "    for kernel in tqdm(kernels):\n",
    "        f.write(f'{kernel.name}\\t')\n",
    "        for dataset_name in dataset_names:\n",
    "            vote, ari = request_cache(dataset_name, kernel)\n",
    "            f.write(f\"{vote['one']}\\t{vote['all']}\\t{vote['k-means++']}\\t{vote['any']}\\t\")\n",
    "        f.write('\\n')\n",
    "        f.flush()\n",
    "                    \n",
    "with open('exp3_ari.csv', 'w') as f:\n",
    "    f.write('Inertia\\t')\n",
    "    for dataset_name in dataset_names:\n",
    "        f.write(f'{dataset_name}\\t\\t\\t\\t')\n",
    "    f.write('\\n\\t')\n",
    "    for dataset_name in dataset_names:\n",
    "        f.write('one\\tall\\tk-means++\\tany\\t')\n",
    "    f.write('\\n')\n",
    "\n",
    "    for kernel in tqdm(kernels):\n",
    "        f.write(f'{kernel.name}\\t')\n",
    "        for dataset_name in dataset_names:\n",
    "            vote, ari = request_cache(dataset_name, kernel)\n",
    "            f.write(f\"{ari['one']}\\t{ari['all']}\\t{ari['k-means++']}\\t{ari['any']}\\t\")\n",
    "        f.write('\\n')\n",
    "        f.flush()"
   ]
  },
  {
   "cell_type": "code",
   "execution_count": null,
   "metadata": {},
   "outputs": [],
   "source": []
  }
 ],
 "metadata": {
  "kernelspec": {
   "display_name": "Python 3",
   "language": "python",
   "name": "python3"
  },
  "language_info": {
   "codemirror_mode": {
    "name": "ipython",
    "version": 3
   },
   "file_extension": ".py",
   "mimetype": "text/x-python",
   "name": "python",
   "nbconvert_exporter": "python",
   "pygments_lexer": "ipython3",
   "version": "3.6.9"
  }
 },
 "nbformat": 4,
 "nbformat_minor": 2
}
